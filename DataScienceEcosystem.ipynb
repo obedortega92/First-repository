{
 "cells": [
  {
   "cell_type": "markdown",
   "id": "2c2fe083",
   "metadata": {},
   "source": [
    " # Data Science tools and Ecosystem"
   ]
  },
  {
   "cell_type": "markdown",
   "id": "e6fc9bbd",
   "metadata": {},
   "source": [
    "In this notebook, Data Science Tools and Ecosystem are summarized."
   ]
  },
  {
   "cell_type": "markdown",
   "id": "62c86018",
   "metadata": {},
   "source": [
    "**Objectives:**\n",
    "- Learn about tools for Data Science\n",
    "- List popular languages and libraries used by data scientists \n",
    "- Create tables and lists\n",
    "- Use and practice my skills on Jupyter Notebooks\n",
    "- Create and share my Jupyter Notebook proyects on GitHub"
   ]
  },
  {
   "cell_type": "markdown",
   "id": "a18c1a30",
   "metadata": {},
   "source": [
    "Some of the popular languages that Data Scientist use are: \n",
    "1. Python \n",
    "2. R\n",
    "3. SQL"
   ]
  },
  {
   "cell_type": "markdown",
   "id": "6f017d32",
   "metadata": {},
   "source": [
    "Some of the commonly used libraries used by Data Scientists include:\n",
    "1. Pandas\n",
    "2. TensorFlow\n",
    "3. Dplyr"
   ]
  },
  {
   "cell_type": "markdown",
   "id": "80ecf62f",
   "metadata": {},
   "source": [
    "| Data Science Tools |\n",
    "-------------------------\n",
    "| MySQL |\n",
    "| Apache Airflow |\n",
    "| Kubernetes |"
   ]
  },
  {
   "cell_type": "markdown",
   "id": "7c0b659d",
   "metadata": {},
   "source": [
    "### Below are a few examples of evaluating aritgmetic expressions in Python"
   ]
  },
  {
   "cell_type": "code",
   "execution_count": 2,
   "id": "1594645e",
   "metadata": {},
   "outputs": [
    {
     "data": {
      "text/plain": [
       "17"
      ]
     },
     "execution_count": 2,
     "metadata": {},
     "output_type": "execute_result"
    }
   ],
   "source": [
    "\"This a simple arithmetic expression to multiply then add integers\"\n",
    "(3*4)+5"
   ]
  },
  {
   "cell_type": "code",
   "execution_count": 5,
   "id": "f46c1880",
   "metadata": {},
   "outputs": [
    {
     "data": {
      "text/plain": [
       "3.3333333333333335"
      ]
     },
     "execution_count": 5,
     "metadata": {},
     "output_type": "execute_result"
    }
   ],
   "source": [
    "\"This will convert 200 minutes to hours by diving by 60\"\n",
    "200/60"
   ]
  },
  {
   "cell_type": "markdown",
   "id": "3248a03e",
   "metadata": {},
   "source": [
    "## Author\n",
    "Daniel Obed Ortega Vázquez"
   ]
  }
 ],
 "metadata": {
  "kernelspec": {
   "display_name": "Python 3 (ipykernel)",
   "language": "python",
   "name": "python3"
  },
  "language_info": {
   "codemirror_mode": {
    "name": "ipython",
    "version": 3
   },
   "file_extension": ".py",
   "mimetype": "text/x-python",
   "name": "python",
   "nbconvert_exporter": "python",
   "pygments_lexer": "ipython3",
   "version": "3.10.9"
  }
 },
 "nbformat": 4,
 "nbformat_minor": 5
}
